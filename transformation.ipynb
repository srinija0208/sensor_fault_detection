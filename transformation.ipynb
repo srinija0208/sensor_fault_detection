{
 "cells": [
  {
   "cell_type": "markdown",
   "metadata": {},
   "source": [
    "## Target value mapping(model transformation)"
   ]
  },
  {
   "cell_type": "code",
   "execution_count": 2,
   "metadata": {},
   "outputs": [],
   "source": [
    "from sensor.ml.model.estimator import TargetValueMapping"
   ]
  },
  {
   "cell_type": "code",
   "execution_count": 3,
   "metadata": {},
   "outputs": [
    {
     "data": {
      "text/plain": [
       "{'neg': 0, 'pos': 1}"
      ]
     },
     "execution_count": 3,
     "metadata": {},
     "output_type": "execute_result"
    }
   ],
   "source": [
    "TargetValueMapping().to_dict()"
   ]
  },
  {
   "cell_type": "code",
   "execution_count": 4,
   "metadata": {},
   "outputs": [
    {
     "data": {
      "text/plain": [
       "{0: 'neg', 1: 'pos'}"
      ]
     },
     "execution_count": 4,
     "metadata": {},
     "output_type": "execute_result"
    }
   ],
   "source": [
    "TargetValueMapping().reverse_mapping()"
   ]
  },
  {
   "cell_type": "markdown",
   "metadata": {},
   "source": [
    "## loading train.npy and test.npy"
   ]
  },
  {
   "cell_type": "code",
   "execution_count": null,
   "metadata": {},
   "outputs": [],
   "source": [
    "import numpy as np\n",
    "\n",
    "\n",
    "# Load the .npy file\n",
    "train_data = np.load(r\"C:\\projects_endtoend\\sensorfault_prediction\\artifact\\01_16_2025_19_01_06\\data_transformation\\transformed\\train.npy\")\n",
    "test_data = np.load(r\"C:\\projects_endtoend\\sensorfault_prediction\\artifact\\01_16_2025_19_01_06\\data_transformation\\transformed\\test.npy\")\n"
   ]
  },
  {
   "cell_type": "code",
   "execution_count": 4,
   "metadata": {},
   "outputs": [
    {
     "name": "stdout",
     "output_type": "stream",
     "text": [
      "[[-0.62874343 -0.13349515 -0.1369863  ...  0.          0.\n",
      "   0.        ]\n",
      " [ 0.16332735  0.16019417  0.61643836 ...  0.          0.\n",
      "   0.        ]\n",
      " [-0.59238089 -0.12378641 -0.10273973 ...  0.          0.\n",
      "   0.        ]\n",
      " ...\n",
      " [14.77836929 -0.13834951  6.89287961 ...  0.          0.\n",
      "   1.        ]\n",
      " [13.97908638  0.21551183  0.86158132 ...  0.          0.\n",
      "   1.        ]\n",
      " [10.64624249 -0.1310932  -0.1369863  ...  0.          0.\n",
      "   1.        ]]\n"
     ]
    }
   ],
   "source": [
    "# Print the data\n",
    "\n",
    "print(train_data)"
   ]
  },
  {
   "cell_type": "code",
   "execution_count": 5,
   "metadata": {},
   "outputs": [
    {
     "name": "stdout",
     "output_type": "stream",
     "text": [
      "[[-0.59075938 -0.13349515 -0.1369863  ...  0.          0.\n",
      "   0.        ]\n",
      " [ 0.39520436  0.27669903  0.62328767 ...  0.          0.\n",
      "   0.        ]\n",
      " [-0.62002777 -0.11407767 -0.0890411  ...  0.          0.\n",
      "   0.        ]\n",
      " ...\n",
      " [ 4.79114341  0.82990763  1.87705965 ...  0.          3.04811351\n",
      "   1.        ]\n",
      " [21.89922153 -0.13834951 -0.1369863  ...  0.          0.\n",
      "   1.        ]\n",
      " [ 8.62798962  4.66720802 -0.1369863  ...  0.          0.\n",
      "   1.        ]]\n"
     ]
    }
   ],
   "source": [
    "print(test_data)"
   ]
  },
  {
   "cell_type": "markdown",
   "metadata": {},
   "source": [
    "## loading preprocessing.pkl"
   ]
  },
  {
   "cell_type": "code",
   "execution_count": 9,
   "metadata": {},
   "outputs": [
    {
     "name": "stdout",
     "output_type": "stream",
     "text": [
      "Pipeline(steps=[('Imputer', SimpleImputer(fill_value=0, strategy='constant')),\n",
      "                ('RobustScaler', RobustScaler())])\n"
     ]
    }
   ],
   "source": [
    "import pickle\n",
    "\n",
    "# Replace backslashes with forward slashes in the file path\n",
    "file_path = 'artifact/01_16_2025_19_01_06/data_transformation/transformed_object/preprocessing.pkl'\n",
    "\n",
    "with open(file_path, 'rb') as file:\n",
    "    preprocessing_object = pickle.load(file)\n",
    "\n",
    "# Print the object\n",
    "print(preprocessing_object)\n"
   ]
  },
  {
   "cell_type": "code",
   "execution_count": null,
   "metadata": {},
   "outputs": [],
   "source": []
  }
 ],
 "metadata": {
  "kernelspec": {
   "display_name": "Python 3",
   "language": "python",
   "name": "python3"
  },
  "language_info": {
   "codemirror_mode": {
    "name": "ipython",
    "version": 3
   },
   "file_extension": ".py",
   "mimetype": "text/x-python",
   "name": "python",
   "nbconvert_exporter": "python",
   "pygments_lexer": "ipython3",
   "version": "3.8.20"
  }
 },
 "nbformat": 4,
 "nbformat_minor": 2
}
